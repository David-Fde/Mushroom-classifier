{
 "cells": [
  {
   "cell_type": "code",
   "execution_count": 8,
   "metadata": {},
   "outputs": [],
   "source": [
    "import os\n",
    "import json\n",
    "from tensorflow.keras.models import model_from_json\n",
    "import cv2\n",
    "import numpy as np\n",
    "from tensorflow.keras.models import load_model"
   ]
  },
  {
   "cell_type": "code",
   "execution_count": 9,
   "metadata": {},
   "outputs": [],
   "source": [
    "CLASSES = ['Amanita-muscaria', 'Niscalo', 'Boletus-edulis',\n",
    "           'Amanita-phalloides', 'Amanita-cesarea']\n",
    "model = \"Input/Model/model.json\"\n",
    "weights = \"Input/Model/weights-improvement-26-0.93.hdf5\""
   ]
  },
  {
   "cell_type": "code",
   "execution_count": 10,
   "metadata": {},
   "outputs": [],
   "source": [
    "def predict(image_dir, model_dir, weight_dir):\n",
    "    '''Predict the disease of the given photo'''\n",
    "    # load json and create model\n",
    "    with open(model_dir, 'r') as f:\n",
    "        model_json = json.load(f)\n",
    "    loaded_model = model_from_json(model_json)\n",
    "    loaded_model.load_weights(weight_dir)\n",
    "    # image processing and recognition\n",
    "    default_image_size = tuple((256, 256))\n",
    "    img = cv2.imread(image_dir) / 255\n",
    "    img = cv2.resize(img, default_image_size)\n",
    "    np_image_li = np.asarray(img)\n",
    "    npp_image = np.expand_dims(np_image_li, axis=0)\n",
    "    result = loaded_model.predict(npp_image)  # prediction\n",
    "    itemindex = np.where(result == np.max(result))\n",
    "    pred = (f\"{str(round(np.max(result)*100,2))}% {CLASSES[itemindex[1][0]]}\")\n",
    "    return pred, CLASSES[itemindex[1][0]]"
   ]
  },
  {
   "cell_type": "code",
   "execution_count": 11,
   "metadata": {},
   "outputs": [
    {
     "data": {
      "text/plain": [
       "('100.0% Niscalo', 'Niscalo')"
      ]
     },
     "execution_count": 11,
     "metadata": {},
     "output_type": "execute_result"
    }
   ],
   "source": [
    "predict('images (5).jpeg', model, weights)\n"
   ]
  },
  {
   "cell_type": "code",
   "execution_count": null,
   "metadata": {},
   "outputs": [],
   "source": []
  }
 ],
 "metadata": {
  "kernelspec": {
   "display_name": "Python 3",
   "language": "python",
   "name": "python3"
  },
  "language_info": {
   "codemirror_mode": {
    "name": "ipython",
    "version": 3
   },
   "file_extension": ".py",
   "mimetype": "text/x-python",
   "name": "python",
   "nbconvert_exporter": "python",
   "pygments_lexer": "ipython3",
   "version": "3.6.9"
  }
 },
 "nbformat": 4,
 "nbformat_minor": 2
}
