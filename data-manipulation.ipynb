{
 "nbformat": 4,
 "nbformat_minor": 2,
 "metadata": {
  "language_info": {
   "name": "python",
   "codemirror_mode": {
    "name": "ipython",
    "version": 3
   },
   "version": "3.6.9"
  },
  "orig_nbformat": 2,
  "file_extension": ".py",
  "mimetype": "text/x-python",
  "name": "python",
  "npconvert_exporter": "python",
  "pygments_lexer": "ipython3",
  "version": 3
 },
 "cells": [
  {
   "cell_type": "code",
   "execution_count": 76,
   "metadata": {},
   "outputs": [],
   "source": [
    "import glob\n",
    "import os\n",
    "import re\n",
    "from pathlib import Path"
   ]
  },
  {
   "cell_type": "code",
   "execution_count": 44,
   "metadata": {},
   "outputs": [
    {
     "name": "stdout",
     "output_type": "stream",
     "text": "/home/dfernandez/Desktop/Ironhack/Mushroom-project/Mushroom-classifier/Input/Mushroom-images/Amanita muscaria/unclassified\n"
    }
   ],
   "source": [
    "!pwd"
   ]
  },
  {
   "cell_type": "code",
   "execution_count": 121,
   "metadata": {},
   "outputs": [],
   "source": [
    "def change_name_file(order,mushroom_name):\n",
    "    i = int(order)\n",
    "    path = f\"Input/Mushroom-images/{mushroom_name}/\"\n",
    "    for filename in os.listdir(path): \n",
    "        print(filename)\n",
    "        dst =f\"{mushroom_name}\" + str(i) + \".jpeg\"\n",
    "        src = path + filename \n",
    "        dst = path + dst      \n",
    "        os.rename(src, dst) \n",
    "        i += 1"
   ]
  },
  {
   "cell_type": "code",
   "execution_count": null,
   "metadata": {},
   "outputs": [],
   "source": [
    "    dst =\"Amanita-muscaria\" + str(i) + \".jpg\"\n",
    "    src = xyz + filename \n",
    "    dst = xyz + dst      \n",
    "    os.rename(src, dst) \n",
    "    i += 1"
   ]
  }
 ]
}