{
 "nbformat": 4,
 "nbformat_minor": 2,
 "metadata": {
  "language_info": {
   "name": "python",
   "codemirror_mode": {
    "name": "ipython",
    "version": 3
   },
   "version": "3.6.9"
  },
  "orig_nbformat": 2,
  "file_extension": ".py",
  "mimetype": "text/x-python",
  "name": "python",
  "npconvert_exporter": "python",
  "pygments_lexer": "ipython3",
  "version": 3
 },
 "cells": [
  {
   "cell_type": "code",
   "execution_count": 36,
   "metadata": {},
   "outputs": [],
   "source": [
    "from __future__ import print_function\n",
    "import keras\n",
    "from keras.models import Sequential\n",
    "from keras.layers import Dense, Dropout, Flatten\n",
    "from keras.layers import Conv2D, MaxPooling2D\n",
    "from keras import backend as K\n",
    "import pandas as pd\n",
    "import numpy as np\n",
    "import re\n",
    "import glob\n",
    "from PIL import Image"
   ]
  },
  {
   "cell_type": "code",
   "execution_count": 121,
   "metadata": {},
   "outputs": [],
   "source": [
    "classes = {\"/Amanita-cesarea/\" : 1,\n",
    "           \"/Amanita-muscaria/\" : 2,\n",
    "           \"/Amanita-phalloides/\" : 3,\n",
    "           \"/Boletus-edulis/\" : 4,\n",
    "           \"/Lactarius-deliciosus/\" : 5\n",
    "            }\n",
    "def get_y(name):\n",
    "    lista = []\n",
    "    for file in glob.glob('./Input/Final-photos/*/*'):\n",
    "        x = re.findall(f\"{name}\",file)\n",
    "        for k,v in classes.items():\n",
    "            if k in x:\n",
    "                lista.append(v)\n",
    "    return np.asarray(lista)       "
   ]
  },
  {
   "cell_type": "code",
   "execution_count": 123,
   "metadata": {},
   "outputs": [],
   "source": [
    "lst = []\n",
    "for e in classes:\n",
    "    lst.append(get_y(e))\n",
    "y = np.concatenate((lst[0],lst[1],lst[2],lst[3],lst[4]),axis=0)"
   ]
  },
  {
   "cell_type": "code",
   "execution_count": 127,
   "metadata": {},
   "outputs": [
    {
     "data": {
      "text/plain": "array([1, 1, 1, ..., 5, 5, 5])"
     },
     "execution_count": 127,
     "metadata": {},
     "output_type": "execute_result"
    }
   ],
   "source": [
    "y"
   ]
  },
  {
   "cell_type": "code",
   "execution_count": 34,
   "metadata": {},
   "outputs": [
    {
     "data": {
      "text/plain": "(2326,)"
     },
     "execution_count": 34,
     "metadata": {},
     "output_type": "execute_result"
    }
   ],
   "source": [
    "y.shape"
   ]
  },
  {
   "cell_type": "code",
   "execution_count": 125,
   "metadata": {},
   "outputs": [
    {
     "name": "stdout",
     "output_type": "stream",
     "text": "(128, 128, 3)\n(16384, 3)\n"
    }
   ],
   "source": [
    "for file in glob.glob('./Input/Final-photos/*/*'):\n",
    "    im = Image.open(file)\n",
    "    x = np.asarray(im.getdata())\n",
    "    x = x.reshape(128,128,3) / 255\n",
    "    print(x.shape)\n",
    "    X = np.concatenate(x)\n",
    "    print(X.shape)\n",
    "    break"
   ]
  },
  {
   "cell_type": "code",
   "execution_count": null,
   "metadata": {},
   "outputs": [],
   "source": []
  }
 ]
}